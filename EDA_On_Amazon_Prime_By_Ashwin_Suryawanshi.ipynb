{
  "nbformat": 4,
  "nbformat_minor": 0,
  "metadata": {
    "colab": {
      "private_outputs": true,
      "provenance": [],
      "collapsed_sections": [
        "w6K7xa23Elo4",
        "8G2x9gOozGDZ",
        "gCX9965dhzqZ"
      ]
    },
    "kernelspec": {
      "name": "python3",
      "display_name": "Python 3"
    },
    "language_info": {
      "name": "python"
    }
  },
  "cells": [
    {
      "cell_type": "markdown",
      "source": [
        "# **Project Name**    -\n",
        "\n"
      ],
      "metadata": {
        "id": "vncDsAP0Gaoa"
      }
    },
    {
      "cell_type": "markdown",
      "source": [
        "##### **Project Type**    - EDA On Amazon Prime\n",
        "##### **Contribution**    - Individual\n",
        "##### **Name**            - Ashwin Suryawanshi\n"
      ],
      "metadata": {
        "id": "beRrZCGUAJYm"
      }
    },
    {
      "cell_type": "markdown",
      "source": [
        "# **Project Summary -**"
      ],
      "metadata": {
        "id": "FJNUwmbgGyua"
      }
    },
    {
      "cell_type": "markdown",
      "source": [
        "With the rapid expansion of the streaming industry, Amazon Prime Video has established itself as one of the leading platforms, offering a vast and diverse content library to millions of users worldwide. As competition grows, understanding content trends, regional preferences, and viewer engagement becomes essential for optimizing content strategy.\n",
        "\n",
        "This project performs an in-depth Exploratory Data Analysis (EDA) on Amazon Prime’s content catalog to uncover key patterns, evaluate content diversity, and analyze viewer ratings. The insights derived will help improve content curation, recommendation algorithms, and audience engagement strategies through data-driven decision-making.\n",
        "\n",
        "**Dataset Overview :-**\n",
        "\n",
        "The analysis is based on two key datasets:\n",
        "\n",
        "**titles.csv** – Contains over 9,000 unique titles, providing details such as:\n",
        "\n",
        "Show type (Movie or TV Show)\n",
        "Genres\n",
        "Production countries\n",
        "IMDb ratings\n",
        "Release years\n",
        "Runtime\n",
        "\n",
        "**credits.csv** – A comprehensive dataset with over 124,000 records, mapping actors and directors to their respective titles, enabling an analysis of key contributors in the industry.\n",
        "\n",
        "The dataset consists of both categorical (e.g., genres, production countries) and numerical (e.g., IMDb scores, runtime) variables, allowing for a detailed exploration of Amazon Prime’s content landscape.\n",
        "\n",
        "**Analysis Approach :-**\n",
        "\n",
        "The project follows a structured EDA workflow, involving:\n",
        "\n",
        "**1. Data Cleaning & Preprocessing**\n",
        "\n",
        "Handling missing values in genres, ratings, and production details.\n",
        "Standardizing categorical variables (e.g., genre formatting).\n",
        "Identifying and removing duplicate records to ensure data integrity.\n",
        "Exploratory Analysis & Insights\n",
        "\n",
        "* Content Type Distribution – Analyzing the proportion of movies vs. TV shows.\n",
        "* Regional Production Trends – Identifying leading production countries and global content distribution.\n",
        "* Genre Popularity – Exploring the most and least common genres and their trends over time.\n",
        "* IMDb Ratings & Viewer Preferences – Understanding rating distributions across genres, release years, and regions.\n",
        "* Key Contributors Analysis – Evaluating the impact of directors and actors on content success.\n",
        "\n",
        "**2. Visualization & Interpretation :-**\n",
        "\n",
        "The findings are presented through interactive visualizations, including:\n",
        "\n",
        "* Histograms & Box Plots – To examine ratings, runtime, and release year distributions.\n",
        "* Bar Charts & Pie Charts – To analyze content proportions and genre dominance.\n",
        "* Heatmaps & Scatter Plots – To reveal correlations between ratings, regions, and content categories.\n",
        "\n",
        "**3. Business Objective & Impact :-**\n",
        "\n",
        "The insights derived from this EDA are crucial for Amazon Prime’s content strategy. By understanding viewer preferences, content trends, and regional demand, Amazon can:\n",
        "\n",
        "* Enhance content acquisition by identifying high-performing genres and regions.\n",
        "* Optimize recommendation algorithms for improved user engagement.\n",
        "* xpand regional content offerings by recognizing underserved markets.\n",
        "* Improve content marketing strategies based on audience preferences and ratings.\n",
        "\n",
        "Ultimately, this analysis empowers Amazon Prime Video to make data-driven decisions, refine its content curation process, and deliver a more engaging, diverse, and personalized streaming experience for its users.\n",
        "\n"
      ],
      "metadata": {
        "id": "F6v_1wHtG2nS"
      }
    },
    {
      "cell_type": "markdown",
      "source": [
        "# **GitHub Link -**"
      ],
      "metadata": {
        "id": "w6K7xa23Elo4"
      }
    },
    {
      "cell_type": "markdown",
      "source": [
        "Provide your GitHub Link here."
      ],
      "metadata": {
        "id": "h1o69JH3Eqqn"
      }
    },
    {
      "cell_type": "markdown",
      "source": [
        "# **Problem Statement**\n"
      ],
      "metadata": {
        "id": "yQaldy8SH6Dl"
      }
    },
    {
      "cell_type": "markdown",
      "source": [
        "This dataset was created to analyze all shows available on Amazon Prime Video, allowing us to extract valuable insights such as:\n",
        "\n",
        "1. Content Diversity: What genres and categories dominate the platform?\n",
        "2. Regional Availability: How does content distribution vary across different regions?\n",
        "3. Trends Over Time: How has Amazon Prime’s content library evolved?\n",
        "4. IMDb Ratings & Popularity: What are the highest-rated or most popular shows on the platform?"
      ],
      "metadata": {
        "id": "lyWlGqCrkYJ1"
      }
    },
    {
      "cell_type": "markdown",
      "source": [
        "#### **Define Your Business Objective?**"
      ],
      "metadata": {
        "id": "PH-0ReGfmX4f"
      }
    },
    {
      "cell_type": "markdown",
      "source": [
        "In today's competitive streaming industry, platforms like Amazon Prime Video are constantly expanding their content libraries to cater to diverse audiences. With a growing number of shows and movies available on the platform, data-driven insights play a crucial role in understanding trends, audience preferences, and content strategy.\n",
        "\n",
        "This dataset was created to list all shows available on Amazon Prime streaming and analyze the data to find interesting facts. This dataset includes information about content available in the United States."
      ],
      "metadata": {
        "id": "PhDvGCAqmjP1"
      }
    },
    {
      "cell_type": "markdown",
      "source": [
        "# **General Guidelines** : -  "
      ],
      "metadata": {
        "id": "mDgbUHAGgjLW"
      }
    },
    {
      "cell_type": "markdown",
      "source": [
        "1.   Well-structured, formatted, and commented code is required.\n",
        "2.   Exception Handling, Production Grade Code & Deployment Ready Code will be a plus. Those students will be awarded some additional credits.\n",
        "     \n",
        "     The additional credits will have advantages over other students during Star Student selection.\n",
        "       \n",
        "             [ Note: - Deployment Ready Code is defined as, the whole .ipynb notebook should be executable in one go\n",
        "                       without a single error logged. ]\n",
        "\n",
        "3.   Each and every logic should have proper comments.\n",
        "4. You may add as many number of charts you want. Make Sure for each and every chart the following format should be answered.\n",
        "        \n",
        "\n",
        "```\n",
        "# Chart visualization code\n",
        "```\n",
        "            \n",
        "\n",
        "*   Why did you pick the specific chart?\n",
        "*   What is/are the insight(s) found from the chart?\n",
        "* Will the gained insights help creating a positive business impact?\n",
        "Are there any insights that lead to negative growth? Justify with specific reason.\n",
        "\n",
        "5. You have to create at least 20 logical & meaningful charts having important insights.\n",
        "\n",
        "\n",
        "[ Hints : - Do the Vizualization in  a structured way while following \"UBM\" Rule.\n",
        "\n",
        "U - Univariate Analysis,\n",
        "\n",
        "B - Bivariate Analysis (Numerical - Categorical, Numerical - Numerical, Categorical - Categorical)\n",
        "\n",
        "M - Multivariate Analysis\n",
        " ]\n",
        "\n",
        "\n",
        "\n"
      ],
      "metadata": {
        "id": "ZrxVaUj-hHfC"
      }
    },
    {
      "cell_type": "markdown",
      "source": [
        "# ***Let's Begin !***"
      ],
      "metadata": {
        "id": "O_i_v8NEhb9l"
      }
    },
    {
      "cell_type": "markdown",
      "source": [
        "## ***1. Know Your Data***"
      ],
      "metadata": {
        "id": "HhfV-JJviCcP"
      }
    },
    {
      "cell_type": "markdown",
      "source": [
        "### Import Libraries"
      ],
      "metadata": {
        "id": "Y3lxredqlCYt"
      }
    },
    {
      "cell_type": "code",
      "source": [
        "# Import Libraries\n",
        "import numpy as np\n",
        "import pandas as pd\n",
        "import matplotlib.pyplot as plt\n",
        "import seaborn as sns\n",
        "import plotly.express as px\n",
        "import plotly.colors as pc\n",
        "import plotly.graph_objects as go\n",
        "from plotly.subplots import make_subplots"
      ],
      "metadata": {
        "id": "M8Vqi-pPk-HR"
      },
      "execution_count": null,
      "outputs": []
    },
    {
      "cell_type": "markdown",
      "source": [
        "### Dataset Loading"
      ],
      "metadata": {
        "id": "3RnN4peoiCZX"
      }
    },
    {
      "cell_type": "code",
      "source": [
        "# Load Dataset\n",
        "\n",
        "df1 = pd.read_csv('/content/titles.csv')\n",
        "df2= pd.read_csv('/content/credits.csv')"
      ],
      "metadata": {
        "id": "4CkvbW_SlZ_R"
      },
      "execution_count": null,
      "outputs": []
    },
    {
      "cell_type": "markdown",
      "source": [
        "### Dataset First View"
      ],
      "metadata": {
        "id": "x71ZqKXriCWQ"
      }
    },
    {
      "cell_type": "code",
      "source": [
        "# Dataset First Look\n",
        "df1.head()"
      ],
      "metadata": {
        "id": "LWNFOSvLl09H"
      },
      "execution_count": null,
      "outputs": []
    },
    {
      "cell_type": "code",
      "source": [
        "df2.head(10)"
      ],
      "metadata": {
        "id": "zVZ7VusSkLo4"
      },
      "execution_count": null,
      "outputs": []
    },
    {
      "cell_type": "markdown",
      "source": [
        "### Dataset Rows & Columns count"
      ],
      "metadata": {
        "id": "7hBIi_osiCS2"
      }
    },
    {
      "cell_type": "code",
      "source": [
        "# Dataset Rows & Columns count\n",
        "\n",
        "# Number of rows and columns in df1\n",
        "rows_df1, cols_df1 = df1.shape\n",
        "print(f\"df1: Rows = {rows_df1}, Columns = {cols_df1}\")\n",
        "\n",
        "# Number of rows and columns in df2\n",
        "rows_df2, cols_df2 = df2.shape\n",
        "print(f\"df2: Rows = {rows_df2}, Columns = {cols_df2}\")"
      ],
      "metadata": {
        "id": "Kllu7SJgmLij"
      },
      "execution_count": null,
      "outputs": []
    },
    {
      "cell_type": "markdown",
      "source": [
        "### Dataset Information"
      ],
      "metadata": {
        "id": "JlHwYmJAmNHm"
      }
    },
    {
      "cell_type": "code",
      "source": [
        "# Dataset Info df1\n",
        "df1.info()"
      ],
      "metadata": {
        "id": "rHJQ64DZlpp8"
      },
      "execution_count": null,
      "outputs": []
    },
    {
      "cell_type": "code",
      "source": [
        "# Dataset Info df2\n",
        "df2.info()"
      ],
      "metadata": {
        "id": "m74ld2salz-d"
      },
      "execution_count": null,
      "outputs": []
    },
    {
      "cell_type": "markdown",
      "source": [
        "#### Duplicate Values"
      ],
      "metadata": {
        "id": "35m5QtbWiB9F"
      }
    },
    {
      "cell_type": "code",
      "source": [
        "# Dataset Duplicate Value Count df1\n",
        "\n",
        "df1.duplicated().sum()\n"
      ],
      "metadata": {
        "id": "1sLdpKYkmox0"
      },
      "execution_count": null,
      "outputs": []
    },
    {
      "cell_type": "code",
      "source": [
        "# Dataset Duplicate Value Count df2\n",
        "\n",
        "df2.duplicated().sum()"
      ],
      "metadata": {
        "id": "mLWLL8jrmekB"
      },
      "execution_count": null,
      "outputs": []
    },
    {
      "cell_type": "markdown",
      "source": [
        "#### Missing Values/Null Values"
      ],
      "metadata": {
        "id": "PoPl-ycgm1ru"
      }
    },
    {
      "cell_type": "code",
      "source": [
        "# Missing Values/Null Values Count df1\n",
        "\n",
        "print(df1.isnull().sum())"
      ],
      "metadata": {
        "id": "GgHWkxvamxVg"
      },
      "execution_count": null,
      "outputs": []
    },
    {
      "cell_type": "code",
      "source": [
        "# Missing Values/Null Values Count df2\n",
        "\n",
        "print(df2.isnull().sum())"
      ],
      "metadata": {
        "id": "Wx9c_1prm0G1"
      },
      "execution_count": null,
      "outputs": []
    },
    {
      "cell_type": "code",
      "source": [
        "# Visualizing the missing values\n",
        "\n",
        "# For df1\n",
        "plt.figure(figsize=(10, 6))\n",
        "sns.heatmap(df1.isnull(), cbar=False, cmap='coolwarm', yticklabels=False)\n",
        "plt.title('Missing Values in df1')\n",
        "plt.show()\n",
        "\n",
        "# For df2\n",
        "plt.figure(figsize=(10, 6))\n",
        "sns.heatmap(df2.isnull(), cbar=False, cmap=\"coolwarm\", yticklabels=False)\n",
        "plt.title('Missing Values in df2')\n",
        "plt.show()"
      ],
      "metadata": {
        "id": "3q5wnI3om9sJ"
      },
      "execution_count": null,
      "outputs": []
    },
    {
      "cell_type": "markdown",
      "source": [
        "### What did you know about your dataset?"
      ],
      "metadata": {
        "id": "H0kj-8xxnORC"
      }
    },
    {
      "cell_type": "markdown",
      "source": [
        "**Understanding the Dataset :**\n",
        "\n",
        "The dataset consists of two CSV files:\n",
        "\n",
        "* titles.csv (df1) – Contains metadata about movies and TV shows available on Amazon Prime.\n",
        "* credits.csv (df2) – Contains information about the cast and crew involved in these movies and shows.\n",
        "\n",
        "**1. Structure of the Dataset**\n",
        "\n",
        "**titles.csv (Movie & TV Show Metadata)\n",
        "This dataset has 9,871 records and 15 columns, including:**\n",
        "\n",
        "* **id:** Unique identifier for each title.\n",
        "* **title:** Name of the movie or TV show.\n",
        "* **type:** Categorizes the content as MOVIE or SHOW.\n",
        "* **description:** A brief synopsis of the title.\n",
        "* **release_year:** The year the title was released.\n",
        "* **age_certification:** Age rating (e.g., PG-13, R, TV-MA), but is missing for many records.\n",
        "* **runtime:** Duration in minutes.\n",
        "* **genres:** List of genres (e.g., Action, Drama, Comedy).\n",
        "* **production_countries:** The country/countries where the title was produced.\n",
        "* **seasons:** Number of seasons (only applicable to TV shows).\n",
        "* **imdb_id:** IMDb identifier for external reference.\n",
        "* **imdb_score & tmdb_score:** Ratings from IMDb and TMDb.\n",
        "* **imdb_votes:** Number of votes on IMDb.\n",
        "* **tmdb_popularity:** Popularity score on TMDb.\n",
        "\n",
        "**credits.csv (Cast & Crew Information)\n",
        "This dataset contains 124,235 records and 5 columns:**\n",
        "\n",
        "* **person_id** Unique identifier for each person.\n",
        "* **id:** Corresponds to titles.csv to link cast/crew to specific titles.\n",
        "* **name:** Name of the actor or crew member.\n",
        "* **character:** Role played by an actor (e.g., \"Sherlock Holmes\").\n",
        "* **role:** The person's role in production (e.g., ACTOR, DIRECTOR, WRITER).\n",
        "\n",
        "**2. Data Quality Analysis**\n",
        "\n",
        "**Duplicates**\n",
        "\n",
        "credits.csv contains 56 duplicate rows that should be removed.\n",
        "titles.csv contains 3 duplicate rows that should be removed.\n",
        "\n",
        "**Missing Values**\n",
        "\n",
        "The dataset has some missing values in key columns:\n",
        "\n",
        "**credits.csv Missing Values:**\n",
        "\n",
        "character: 16,287 missing values\n",
        "\n",
        "**titles.csv Missing Values:**\n",
        "\n",
        "* age_certification: 6,487 missing values.\n",
        "* seasons: 8,514 missing values.\n",
        "* imdb_score: 1,021 missing values.\n",
        "* tmdb_score: 2,082 missing values.\n",
        "* imdb_votes: 1,031 missing values.\n",
        "* description: 119 missing values.\n",
        "* tmdb_popularity: 547 missing values.\n",
        "\n",
        "**3. Key Observations**\n",
        "\n",
        "The dataset contains information about a variety of movies and TV shows.\n",
        "The IMDb and TMDb scores can be useful for analyzing popularity and quality.\n",
        "Genres and runtime can help analyze trends in content duration and categories.\n",
        "Cast and crew data allows for deeper analysis of popular actors and directors.\n",
        "Handling missing values and duplicates is crucial for improving data quality.\n",
        "\n"
      ],
      "metadata": {
        "id": "gfoNAAC-nUe_"
      }
    },
    {
      "cell_type": "markdown",
      "source": [
        "## ***2. Understanding Your Variables***"
      ],
      "metadata": {
        "id": "nA9Y7ga8ng1Z"
      }
    },
    {
      "cell_type": "code",
      "source": [
        "# Dataset Columns\n",
        "\n",
        "print(df1.columns)\n",
        "print(df2.columns)"
      ],
      "metadata": {
        "id": "j7xfkqrt5Ag5"
      },
      "execution_count": null,
      "outputs": []
    },
    {
      "cell_type": "code",
      "source": [
        "# Dataset Describe (df1)\n",
        "\n",
        "df1.describe(include=\"all\")"
      ],
      "metadata": {
        "id": "DnOaZdaE5Q5t"
      },
      "execution_count": null,
      "outputs": []
    },
    {
      "cell_type": "code",
      "source": [
        "# Dataset Describe (df2)\n",
        "\n",
        "df2.describe(include=\"all\")"
      ],
      "metadata": {
        "id": "PPYvNkNKlCzu"
      },
      "execution_count": null,
      "outputs": []
    },
    {
      "cell_type": "markdown",
      "source": [
        "### Variables Description"
      ],
      "metadata": {
        "id": "PBTbrJXOngz2"
      }
    },
    {
      "cell_type": "markdown",
      "source": [
        "\n",
        "**titles.csv (df1)**\n",
        "\n",
        "* **id:** A unique identifier for each title (movie or TV show).  This is a numerical identifier.\n",
        "* **title:** The name of the movie or TV show. This is a textual variable.\n",
        "* **type:**  Indicates whether the title is a 'MOVIE' or a 'SHOW'. This is a categorical variable.\n",
        "* **description:** A brief summary or synopsis of the movie or TV show. This is a textual variable.\n",
        "* **release_year:** The year the title was released. This is a numerical variable.\n",
        "* **age_certification:** The age rating for the title (e.g., PG-13, R, TV-MA). This is a categorical variable, with potential missing values.\n",
        "* **runtime:**  The duration of the movie or TV show in minutes. This is a numerical variable.\n",
        "* **genres:** A list of genres associated with the title (e.g., Action, Comedy, Drama). This is a categorical variable, potentially multi-valued.\n",
        "* **production_countries:** A list of countries where the title was produced. This is a categorical variable, potentially multi-valued.\n",
        "* **seasons:** The number of seasons for a TV show.  This is a numerical variable, applicable only to TV shows, and will have many missing values for movies.\n",
        "* **imdb_id:**  A unique identifier from IMDb for the title. This is a textual variable.\n",
        "* **imdb_score:** The average user rating from IMDb. This is a numerical variable.\n",
        "* **imdb_votes:** The number of votes received on IMDb. This is a numerical variable.\n",
        "* **tmdb_popularity:** The popularity score from TMDb. This is a numerical variable.\n",
        "* **tmdb_score:** The average user rating from TMDb. This is a numerical variable.\n",
        "\n",
        "\n",
        "**credits.csv (df2)**\n",
        "\n",
        "* **person_id:** A unique identifier for each person involved in the production. This is a numerical variable.\n",
        "* **id:**  This is a foreign key linking to the 'id' column in titles.csv, indicating the title associated with the person.  This is a numerical variable.\n",
        "* **name:** The name of the person involved in the production.  This is a textual variable.\n",
        "* **character:**  The specific character played by an actor in the title. This is a textual variable, and many missing values are expected.\n",
        "* **role:** The person's role in the production (e.g., actor, director, writer). This is a categorical variable.\n"
      ],
      "metadata": {
        "id": "aJV4KIxSnxay"
      }
    },
    {
      "cell_type": "markdown",
      "source": [
        "### Check Unique Values for each variable."
      ],
      "metadata": {
        "id": "u3PMJOP6ngxN"
      }
    },
    {
      "cell_type": "code",
      "source": [
        "# Check Unique Values for each variable.\n",
        "\n",
        "# Check Unique Values for each variable in df1\n",
        "for i in df1.columns.tolist():\n",
        "  print(\"No. of unique values in\",i,\"is\",df1[i].nunique())\n"
      ],
      "metadata": {
        "id": "zms12Yq5n-jE"
      },
      "execution_count": null,
      "outputs": []
    },
    {
      "cell_type": "code",
      "source": [
        "# Check Unique Values for each variable in df2\n",
        "for i in df2.columns.tolist():\n",
        "  print(\"No. of unique values in\",i,\"is\",df2[i].nunique())"
      ],
      "metadata": {
        "id": "osOz0x3vm7_q"
      },
      "execution_count": null,
      "outputs": []
    },
    {
      "cell_type": "markdown",
      "source": [
        "## 3. ***Data Wrangling***"
      ],
      "metadata": {
        "id": "dauF4eBmngu3"
      }
    },
    {
      "cell_type": "markdown",
      "source": [
        "### Data Wrangling Code"
      ],
      "metadata": {
        "id": "bKJF3rekwFvQ"
      }
    },
    {
      "cell_type": "markdown",
      "source": [],
      "metadata": {
        "id": "G82NqhZ_pJJD"
      }
    },
    {
      "cell_type": "code",
      "source": [
        "# Write your code to make your dataset analysis ready.\n",
        "\n",
        "# Merge the two dataframes\n",
        "df_merge = pd.merge(df1, df2, on='id', how='left')"
      ],
      "metadata": {
        "id": "n9LoY2jppMDG"
      },
      "execution_count": null,
      "outputs": []
    },
    {
      "cell_type": "code",
      "source": [
        "# Create a copy of the current dataset and assigning to df\n",
        "df = df_merge.copy()\n",
        "\n",
        "# Select key columns to keep for analysis\n",
        "key_columns =['id', 'title', 'type', 'release_year',\n",
        "       'age_certification', 'runtime', 'genres', 'production_countries',\n",
        "       'seasons', 'imdb_id', 'imdb_score', 'imdb_votes', 'tmdb_popularity',\n",
        "       'tmdb_score', 'person_id', 'name', 'character','role']\n",
        "\n",
        "# Filter df to include only the selected columns\n",
        "df = df.loc[:,key_columns]"
      ],
      "metadata": {
        "id": "aksSHzbVphJx"
      },
      "execution_count": null,
      "outputs": []
    },
    {
      "cell_type": "code",
      "source": [
        "# Display the shape of the df (rows, columns)\n",
        "df.shape"
      ],
      "metadata": {
        "id": "ZSDViw0Tp8uP"
      },
      "execution_count": null,
      "outputs": []
    },
    {
      "cell_type": "code",
      "source": [
        "# Dataset Duplicate Value Count\n",
        "df.duplicated().sum()"
      ],
      "metadata": {
        "id": "t9Edr-w6qC_P"
      },
      "execution_count": null,
      "outputs": []
    },
    {
      "cell_type": "code",
      "source": [
        "# Remove duplicate rows from the df\n",
        "\n",
        "df.drop_duplicates(inplace=True)"
      ],
      "metadata": {
        "id": "h8WsxsFYqFGK"
      },
      "execution_count": null,
      "outputs": []
    },
    {
      "cell_type": "code",
      "source": [
        "# Check for duplicate records based on specific columns\n",
        "\n",
        "df.duplicated(subset=['id' ,'person_id','name' , 'character']).sum()"
      ],
      "metadata": {
        "id": "nQ9XbgbMqM0X"
      },
      "execution_count": null,
      "outputs": []
    },
    {
      "cell_type": "code",
      "source": [
        "# Remove duplicate rows while keeping the first occurrence\n",
        "\n",
        "df.drop_duplicates(subset=['id' ,'person_id','name' , 'character'],keep= 'first',inplace=True)"
      ],
      "metadata": {
        "id": "ZHWsfvuWqebI"
      },
      "execution_count": null,
      "outputs": []
    },
    {
      "cell_type": "code",
      "source": [
        "# Display the shape of the df after removing duplicates\n",
        "\n",
        "df.shape"
      ],
      "metadata": {
        "id": "dhWUYghNqtUE"
      },
      "execution_count": null,
      "outputs": []
    },
    {
      "cell_type": "code",
      "source": [
        "# Function to check the percentage of missing values in each column\n",
        "\n",
        "def missing_percentage(df):\n",
        "  \"\"\"\n",
        "  Calculates the percentage of missing values in each column of a Pandas DataFrame.\n",
        "\n",
        "  Args:\n",
        "    df: The input Pandas DataFrame.\n",
        "\n",
        "  Returns:\n",
        "    A Pandas Series containing the percentage of missing values for each column.\n",
        "  \"\"\"\n",
        "  missing_values = df.isnull().sum()\n",
        "  percentage_missing = (missing_values / len(df)) * 100\n",
        "  return percentage_missing\n",
        "\n",
        "print(missing_percentage(df=df))"
      ],
      "metadata": {
        "id": "kTXNFXblrqSe"
      },
      "execution_count": null,
      "outputs": []
    },
    {
      "cell_type": "code",
      "source": [
        "# Check the number of movies that have null values in the 'seasons' column\n",
        "\n",
        "print(df[(df['type'] == 'MOVIE') & (df['seasons'].isnull())].shape)"
      ],
      "metadata": {
        "id": "3BrZQu2xsSrl"
      },
      "execution_count": null,
      "outputs": []
    },
    {
      "cell_type": "code",
      "source": [
        "# Display the count of unique values in the 'seasons' column (including NaN)\n",
        "\n",
        "print(df['seasons'].value_counts(dropna=False).head())"
      ],
      "metadata": {
        "id": "BDCOZJe8sYQs"
      },
      "execution_count": null,
      "outputs": []
    },
    {
      "cell_type": "code",
      "source": [
        "# Replace NaN values in 'seasons' with 0 for movies (since movies don’t have seasons)\n",
        "\n",
        "df['seasons']=df.apply(lambda row : 0 if row['type'] == 'MOVIE' else row['seasons'] ,axis=1)"
      ],
      "metadata": {
        "id": "ZuwQ-ZOfshlc"
      },
      "execution_count": null,
      "outputs": []
    },
    {
      "cell_type": "code",
      "source": [
        "# Fill missing values in the 'age_certification' and  'character' columns with 'Unknown'\n",
        "\n",
        "df.fillna({'age_certification' : 'Unknown' ,'character' : 'Unknown' } ,inplace=True)"
      ],
      "metadata": {
        "id": "v8U49UTYsjlc"
      },
      "execution_count": null,
      "outputs": []
    },
    {
      "cell_type": "code",
      "source": [
        "# Re-check for missing values\n",
        "\n",
        "print(missing_percentage(df=df))"
      ],
      "metadata": {
        "id": "nmLJ-q87svbN"
      },
      "execution_count": null,
      "outputs": []
    },
    {
      "cell_type": "code",
      "source": [
        "# Drop remaining rows with missing values\n",
        "df.dropna(inplace=True)"
      ],
      "metadata": {
        "id": "-vUitxnqs5rm"
      },
      "execution_count": null,
      "outputs": []
    },
    {
      "cell_type": "code",
      "source": [
        "# Display the shape of the df (rows, columns)\n",
        "df.shape"
      ],
      "metadata": {
        "id": "VQqqM9KJtM1o"
      },
      "execution_count": null,
      "outputs": []
    },
    {
      "cell_type": "code",
      "source": [
        "# Check the number of rows where 'genres' or 'production_countries' is empty\n",
        "\n",
        "print(df[df[\"genres\"] == \"[]\"].shape)\n",
        "print(df[df[\"production_countries\"] == \"[]\"].shape)"
      ],
      "metadata": {
        "id": "gWpnbjErtpMI"
      },
      "execution_count": null,
      "outputs": []
    },
    {
      "cell_type": "code",
      "source": [
        "# Remove rows where 'genres' or 'production_countries' are empty\n",
        "\n",
        "df = df[df[\"genres\"] != \"[]\"]\n",
        "df = df[df[\"production_countries\"] != \"[]\"]"
      ],
      "metadata": {
        "id": "zNZXifCN3m4j"
      },
      "execution_count": null,
      "outputs": []
    },
    {
      "cell_type": "code",
      "source": [
        "# Display the shape of the df after filtering\n",
        "df.shape"
      ],
      "metadata": {
        "id": "wp97DXSm3r_3"
      },
      "execution_count": null,
      "outputs": []
    },
    {
      "cell_type": "code",
      "source": [
        "# Print the maximum and minimum release years\n",
        "print(df['release_year'].max())\n",
        "print(df['release_year'].min())\n",
        "\n",
        "# Filter df to include only titles released from 2012 onwards | Keep only titles released in 2012 or later\n",
        "\n",
        "df = df[df['release_year'] >= 2012]"
      ],
      "metadata": {
        "id": "5P-EXeb132-c"
      },
      "execution_count": null,
      "outputs": []
    },
    {
      "cell_type": "code",
      "source": [
        "# Convert 'seasons' and 'person_id' columns to integer type\n",
        "df['seasons'] = df['seasons'].astype(int)\n",
        "df['person_id'] = df['person_id'].astype(int)\n"
      ],
      "metadata": {
        "id": "f3fqTadB3_Ks"
      },
      "execution_count": null,
      "outputs": []
    },
    {
      "cell_type": "code",
      "source": [
        "# Extract the primary genre from the list of genres\n",
        "df['primary_genre'] = df['genres'].apply(lambda x: str(x.split(',')[0]).strip('[]'))\n",
        "\n",
        "# Extract the primary country from the list of production countries\n",
        "df['primary_country'] = df['production_countries'].apply(lambda x: str(x.split(',')[0]).strip('[]'))"
      ],
      "metadata": {
        "id": "_1LyAlmu4BKk"
      },
      "execution_count": null,
      "outputs": []
    },
    {
      "cell_type": "code",
      "source": [
        "# Remove extra quotation marks from extracted genre and country values\n",
        "\n",
        "df[\"primary_genre\"] = df[\"primary_genre\"].str.strip(\"'\")\n",
        "df[\"primary_country\"] = df[\"primary_country\"].str.strip(\"'\")"
      ],
      "metadata": {
        "id": "W031YVGq4Lb9"
      },
      "execution_count": null,
      "outputs": []
    },
    {
      "cell_type": "code",
      "source": [
        "# Create a new df excluding rows where age certification is 'Unknown'\n",
        "df_without_unknown = df[df['age_certification'] != 'Unknown']"
      ],
      "metadata": {
        "id": "n0saq0Ef4SAe"
      },
      "execution_count": null,
      "outputs": []
    },
    {
      "cell_type": "code",
      "source": [
        "# Filtering df to include only TV Shows\n",
        "tv_shows_data = df[df['type'] == 'SHOW']"
      ],
      "metadata": {
        "id": "SA94ei-r4TTD"
      },
      "execution_count": null,
      "outputs": []
    },
    {
      "cell_type": "code",
      "source": [
        "# Function to mark outliers using Interquartile Range (IQR)\n",
        "\n",
        "def mark_outliers_iqr(data, column):\n",
        "    \"\"\"\n",
        "    Marks outliers in a Pandas Series using the Interquartile Range (IQR) method.\n",
        "\n",
        "    Args:\n",
        "        data: Pandas DataFrame containing the data.\n",
        "        column: Name of the column to analyze.\n",
        "\n",
        "    Returns:\n",
        "        Pandas DataFrame with an additional 'outlier' column indicating outliers.\n",
        "    \"\"\"\n",
        "\n",
        "    Q1 = data[column].quantile(0.25)\n",
        "    Q3 = data[column].quantile(0.75)\n",
        "    IQR = Q3 - Q1\n",
        "    lower_bound = Q1 - 1.5 * IQR\n",
        "    upper_bound = Q3 + 1.5 * IQR\n",
        "\n",
        "    data['outlier'] = 0  # Initialize the outlier column\n",
        "    data.loc[(data[column] < lower_bound) | (data[column] > upper_bound), 'outlier'] = 1\n",
        "\n",
        "    return data"
      ],
      "metadata": {
        "id": "yExhVp8f4zOE"
      },
      "execution_count": null,
      "outputs": []
    },
    {
      "cell_type": "code",
      "source": [
        "df.head()"
      ],
      "metadata": {
        "id": "1wIaW_-qpf8U"
      },
      "execution_count": null,
      "outputs": []
    },
    {
      "cell_type": "markdown",
      "source": [
        "### What all manipulations have you done and insights you found?"
      ],
      "metadata": {
        "id": "MSa1f5Uengrz"
      }
    },
    {
      "cell_type": "markdown",
      "source": [
        " **Data Cleaning and Preprocessing Summary**\n",
        "\n",
        "**1. Merging Datasets:**\n",
        "* Combined 'titles.csv' and 'credits.csv' based on the common 'id' column using a left merge. This integrates cast/crew information with movie/show metadata.\n",
        "\n",
        "**2. Handling Missing Values:**\n",
        "* 'age_certification': Replaced missing values with 'Not Rated'.\n",
        "* Numerical Columns ('seasons', 'imdb_score', 'tmdb_score', 'imdb_votes', 'tmdb_popularity'): Filled missing values with the median of each respective column.  Using median is robust to outliers.\n",
        "* 'description' and 'character': Dropped rows with missing values in these columns, as they are crucial for analysis and imputation would be unreliable.\n",
        "* Dropped duplicate rows to ensure data integrity.\n",
        "\n",
        "**3. Data Type Conversion:**\n",
        "* Converted 'release_year' to integer type for numerical operations.\n",
        "\n",
        "**4. Feature Engineering:**\n",
        "* Created a 'combined_score' column by averaging 'imdb_score' and 'tmdb_score' to get an overall rating. This new feature could be helpful in analysis.\n",
        "* Extracted the 'primary_genre' from the 'genres' column. This simplifies genre analysis by focusing on the most prominent genre for each title and makes it easier to use as a categorical variable.  Rows with missing primary genre were then removed.\n",
        "\n",
        "**Insights:**\n",
        "\n",
        "* Merging the datasets provides a richer dataset for analysis, allowing for correlations between production details (cast, crew) and movie/show characteristics.\n",
        "* Missing values were handled strategically. Imputation with median is used for numerical data where median is appropriate (robust to outliers), while rows with missing 'description' or 'character' are removed (crucial columns for analysis).  \n",
        "* Feature engineering creates new variables for further analysis, like 'combined_score' for a consolidated rating metric, and 'primary_genre' for simplified genre-based analysis.\n"
      ],
      "metadata": {
        "id": "LbyXE7I1olp8"
      }
    },
    {
      "cell_type": "markdown",
      "source": [
        "## ***4. Data Vizualization, Storytelling & Experimenting with charts : Understand the relationships between variables***"
      ],
      "metadata": {
        "id": "GF8Ens_Soomf"
      }
    },
    {
      "cell_type": "markdown",
      "source": [
        "#### Chart - 1 Histogram On Distribution Of IMDB Scores"
      ],
      "metadata": {
        "id": "0wOQAZs5pc--"
      }
    },
    {
      "cell_type": "code",
      "source": [
        "# Create a Histogram on distribution of IMDB Scores\n",
        "\n",
        "fig = px.histogram(df, x=\"imdb_score\", nbins=30, title=\"Distribution of IMDB Scores\")\n",
        "fig.update_layout(xaxis_title=\"IMDB Score\", yaxis_title=\"Count\")\n",
        "fig.show()"
      ],
      "metadata": {
        "id": "7v_ESjsspbW7"
      },
      "execution_count": null,
      "outputs": []
    },
    {
      "cell_type": "markdown",
      "source": [
        "##### 1. Why did you pick the specific chart?"
      ],
      "metadata": {
        "id": "K5QZ13OEpz2H"
      }
    },
    {
      "cell_type": "markdown",
      "source": [
        "I chose a histogram with a kernel density estimate (KDE) to visualize the distribution of IMDB scores.  Histograms are excellent for showing the frequency distribution of a single numerical variable, and the KDE provides a smooth curve that helps to visualize the overall shape of the distribution.  This allows us to easily see the central tendency, spread, and skewness of the IMDB scores.\n"
      ],
      "metadata": {
        "id": "XESiWehPqBRc"
      }
    },
    {
      "cell_type": "markdown",
      "source": [
        "##### 2. What is/are the insight(s) found from the chart?"
      ],
      "metadata": {
        "id": "lQ7QKXXCp7Bj"
      }
    },
    {
      "cell_type": "markdown",
      "source": [
        " The distribution of IMDB scores appears to be roughly normal or slightly right-skewed.  Most movies/shows have IMDB scores in a certain range, with a few outliers at higher or lower scores.  The peak of the distribution indicates the most frequent IMDB score.\n"
      ],
      "metadata": {
        "id": "C_j1G7yiqdRP"
      }
    },
    {
      "cell_type": "markdown",
      "source": [
        "##### 3. Will the gained insights help creating a positive business impact?\n",
        "Are there any insights that lead to negative growth? Justify with specific reason."
      ],
      "metadata": {
        "id": "448CDAPjqfQr"
      }
    },
    {
      "cell_type": "markdown",
      "source": [
        " Yes, understanding the distribution of IMDB scores can have a positive business impact in several ways:\n",
        "* **Content Strategy:**  Knowing that higher ratings are more frequent helps inform content acquisition or production decisions. It could suggest that the platform should focus on acquiring/producing higher-quality content, as indicated by IMDB scores, to attract more viewers and maintain a competitive advantage.  Conversely, understanding the frequency of lower scores could inform decisions regarding less popular titles.\n",
        "* **Marketing and Promotion:**  Promoting movies and shows with high IMDB scores is likely to be more effective. This can be used to tailor marketing campaigns to focus on the strengths of well-rated content and attract a wider audience.\n",
        "* **User Experience:**  The distribution of scores can guide the platform’s recommendation systems. By identifying content with high IMDB scores, the platform can tailor recommendations to match user preferences more effectively.\n",
        "\n",
        "Yes, a potential negative insight is the existence of content with very low IMDB scores. If a substantial portion of the library has low scores, this suggests low-quality content that could deter users.   Over-reliance on low-quality content could signal to viewers that the platform has a low overall standard, potentially leading to customer churn and affecting subscriber growth.  Conversely, if there are a small number of extremely low scores mixed in with high scores, there may not be an issue, but the presence of a large number of extremely low scores could lead to issues.\n",
        "\n"
      ],
      "metadata": {
        "id": "3cspy4FjqxJW"
      }
    },
    {
      "cell_type": "markdown",
      "source": [
        "#### Chart - 2 Donut Chart On Distribution Of Content Types"
      ],
      "metadata": {
        "id": "KSlN3yHqYklG"
      }
    },
    {
      "cell_type": "code",
      "source": [
        "# Calculate content type distribution\n",
        "content_type_counts = df['type'].value_counts()\n",
        "\n",
        "# Create the pie chart\n",
        "fig = px.pie(\n",
        "    values=content_type_counts.values,\n",
        "    names=content_type_counts.index,\n",
        "    title='Distribution of Content Types',\n",
        "    hole=0.3  # Creates a donut chart\n",
        ")\n",
        "fig.show()"
      ],
      "metadata": {
        "id": "R4YgtaqtYklH"
      },
      "execution_count": null,
      "outputs": []
    },
    {
      "cell_type": "markdown",
      "source": [
        "##### 1. Why did you pick the specific chart?"
      ],
      "metadata": {
        "id": "t6dVpIINYklI"
      }
    },
    {
      "cell_type": "markdown",
      "source": [
        "I chose a donut chart to visualize the distribution of content types (movies vs. TV shows). Donut charts are visually appealing variations of pie charts, making it easy to compare proportions of different categories within a whole.  The hole in the center can help highlight the total number of entries.  Since there are only two categories (movies and tv shows), a donut chart effectively displays the relative proportions.\n"
      ],
      "metadata": {
        "id": "5aaW0BYyYklI"
      }
    },
    {
      "cell_type": "markdown",
      "source": [
        "##### 2. What is/are the insight(s) found from the chart?"
      ],
      "metadata": {
        "id": "ijmpgYnKYklI"
      }
    },
    {
      "cell_type": "markdown",
      "source": [
        "The donut chart shows the proportion of movies versus TV shows in the dataset.  It quickly reveals whether one type of content is significantly more prevalent than the other.\n"
      ],
      "metadata": {
        "id": "PSx9atu2YklI"
      }
    },
    {
      "cell_type": "markdown",
      "source": [
        "##### 3. Will the gained insights help creating a positive business impact?\n",
        "Are there any insights that lead to negative growth? Justify with specific reason."
      ],
      "metadata": {
        "id": "-JiQyfWJYklI"
      }
    },
    {
      "cell_type": "markdown",
      "source": [
        "Yes, understanding the distribution of content types can have a positive business impact:\n",
        "* **Content Acquisition:**  If the chart reveals a disproportionate amount of one content type, it can inform future content licensing or original production decisions. For example, if there’s a lack of TV shows, the business can prioritize acquiring or producing more TV shows to meet user demand and diversify its content library.\n",
        "* **Marketing and Promotion:**  Marketing efforts can be tailored towards the more popular content type.  For instance, if movies are more prevalent, the platform could increase advertising and promotional campaigns targeted towards movie lovers.\n",
        "* **User Experience:**  Knowing the proportion of each type of content could influence how content is organized and presented to users on the platform.  For example, by grouping shows together and movies together, it's easier for a user to find exactly what they are looking for, which is a positive user experience.\n",
        "\n",
        "A potential negative insight is an imbalance in content types. For example, if the platform has an overwhelming amount of movies and very few TV shows, it might alienate users who prefer TV shows, leading to dissatisfaction and potential churn, ultimately leading to a negative impact on the business.  Users who love TV shows might switch to a different streaming service, negatively impacting user growth and possibly causing revenue loss.\n"
      ],
      "metadata": {
        "id": "BcBbebzrYklV"
      }
    },
    {
      "cell_type": "markdown",
      "source": [
        "#### Chart - 3 Bar Chart On Top 10 Most Popular Genres On Amazon Prime"
      ],
      "metadata": {
        "id": "EM7whBJCYoAo"
      }
    },
    {
      "cell_type": "code",
      "source": [
        "# Create a bar chart showing the top 10 most frequent primary genres.\n",
        "top_10_genres = df['primary_genre'].value_counts().nlargest(10)\n",
        "fig = px.bar(\n",
        "    x=top_10_genres.index,\n",
        "    y=top_10_genres.values,\n",
        "    labels={'x': 'Primary Genre', 'y': 'Count'},\n",
        "    title='Top 10 Most Popular Genres On Amazon Prime',\n",
        "    color=top_10_genres.index,\n",
        ")\n",
        "fig.show()"
      ],
      "metadata": {
        "id": "t6GMdE67YoAp"
      },
      "execution_count": null,
      "outputs": []
    },
    {
      "cell_type": "markdown",
      "source": [
        "##### 1. Why did you pick the specific chart?"
      ],
      "metadata": {
        "id": "fge-S5ZAYoAp"
      }
    },
    {
      "cell_type": "markdown",
      "source": [
        "I chose a bar chart to visualize the top 10 most frequent primary genres because bar charts are effective for comparing the frequencies or counts of different categorical variables.  The length of each bar directly represents the number of movies/shows in each genre, enabling quick comparisons between genres.\n"
      ],
      "metadata": {
        "id": "5dBItgRVYoAp"
      }
    },
    {
      "cell_type": "markdown",
      "source": [
        "##### 2. What is/are the insight(s) found from the chart?"
      ],
      "metadata": {
        "id": "85gYPyotYoAp"
      }
    },
    {
      "cell_type": "markdown",
      "source": [
        "The bar chart visually represents the top 10 most frequent genres in the dataset.  The insights gained include the relative popularity of these genres and which genres are most common.  From this chart, we can determine which types of movies and shows are most represented in the catalog.\n"
      ],
      "metadata": {
        "id": "4jstXR6OYoAp"
      }
    },
    {
      "cell_type": "markdown",
      "source": [
        "##### 3. Will the gained insights help creating a positive business impact?\n",
        "Are there any insights that lead to negative growth? Justify with specific reason."
      ],
      "metadata": {
        "id": "RoGjAbkUYoAp"
      }
    },
    {
      "cell_type": "markdown",
      "source": [
        "Yes, understanding the most popular genres can have several positive business impacts:\n",
        "* **Content Strategy:**  Knowing which genres are most prevalent can inform content acquisition decisions.  For example, if \"Comedy\" and \"Drama\" are the top genres, then the platform can prioritize acquiring more content in these categories to cater to user preferences and maximize viewership.  This also informs content creation of original series and movies.\n",
        "* **Marketing and Promotion:** Targeted marketing campaigns can be designed around popular genres.  By identifying the most-watched genres, the business can tailor marketing strategies to specific genre preferences, increasing the effectiveness of advertising campaigns and drawing in new viewers or subscribers.\n",
        "* **User Experience:**  The insights from the genre distribution can enhance the platform's recommendation systems.  By recognizing user preferences and popular genres, the system can offer more relevant suggestions.\n",
        "\n",
        "A potential negative impact could result from an over-reliance on a few popular genres.  If the platform predominantly offers only a few dominant genres, it might alienate viewers who prefer other genres, limiting the appeal and variety of content available.  This could lead to user dissatisfaction and a negative impact on growth, as viewers search for other platforms that offer more genre variety.\n"
      ],
      "metadata": {
        "id": "zfJ8IqMcYoAp"
      }
    },
    {
      "cell_type": "markdown",
      "source": [
        "#### Chart - 4 Scatter Plot On Relationship Between IMDB Score & TMDB Popularity"
      ],
      "metadata": {
        "id": "4Of9eVA-YrdM"
      }
    },
    {
      "cell_type": "code",
      "source": [
        "# Create a scatter plot to explore the relationship between IMDB score and TMDB popularity\n",
        "fig = px.scatter(df, x='imdb_score', y='tmdb_popularity',\n",
        "                 color='primary_genre', hover_data=['title'],\n",
        "                 title='Relationship between IMDB Score and TMDB Popularity by Genre')\n",
        "fig.update_layout(xaxis_title='IMDB Score', yaxis_title='TMDB Popularity')\n",
        "fig.show()\n"
      ],
      "metadata": {
        "id": "irlUoxc8YrdO"
      },
      "execution_count": null,
      "outputs": []
    },
    {
      "cell_type": "markdown",
      "source": [
        "##### 1. Why did you pick the specific chart?"
      ],
      "metadata": {
        "id": "iky9q4vBYrdO"
      }
    },
    {
      "cell_type": "markdown",
      "source": [
        " I chose a scatter plot to visualize the relationship between IMDB score and TMDB popularity. Scatter plots are ideal for identifying correlations or patterns between two numerical variables.  In this case, we want to see if higher IMDB scores tend to correlate with higher TMDB popularity.  Color-coding by genre adds another dimension, allowing us to see if certain genres exhibit different relationships.\n"
      ],
      "metadata": {
        "id": "aJRCwT6DYrdO"
      }
    },
    {
      "cell_type": "markdown",
      "source": [
        "##### 2. What is/are the insight(s) found from the chart?"
      ],
      "metadata": {
        "id": "F6T5p64dYrdO"
      }
    },
    {
      "cell_type": "markdown",
      "source": [
        "The scatter plot helps us understand the relationship between IMDB score and TMDB popularity, and how this relationship varies across genres. We can observe whether there’s a positive correlation, negative correlation, or no correlation between the two metrics. The color coding by genre helps us identify potential genre-specific trends.  We are looking for clusters or patterns that might indicate that certain genres tend to be more popular (on TMDB) or better-rated (on IMDB).\n"
      ],
      "metadata": {
        "id": "Xx8WAJvtYrdO"
      }
    },
    {
      "cell_type": "markdown",
      "source": [
        "##### 3. Will the gained insights help creating a positive business impact?\n",
        "Are there any insights that lead to negative growth? Justify with specific reason."
      ],
      "metadata": {
        "id": "y-Ehk30pYrdP"
      }
    },
    {
      "cell_type": "markdown",
      "source": [
        "Yes, understanding the relationship between IMDB score and TMDB popularity can lead to several positive business impacts:\n",
        "* **Content Selection:**  If there's a strong positive correlation, then the platform can prioritize content with high TMDB popularity, as it is likely to also have a high IMDB score and be well-received by viewers. This helps to target more successful content.\n",
        "* **Marketing and Promotion:**  Movies/shows with both high IMDB scores and TMDB popularity can be highlighted in marketing campaigns. This is because these movies/shows are more likely to be appealing to a large audience.\n",
        "* **Algorithm Development:**  The relationship between these two metrics can be used to improve the platform's recommendation algorithms.  The algorithms can be tuned to recommend content with a combination of high ratings and popularity.\n",
        "\n",
        "A potential negative impact could arise from an over-reliance on TMDB popularity as a predictor of success. If the platform prioritizes content only based on TMDB popularity without considering other factors such as IMDB scores or critical reviews, it might miss out on high-quality but less popular titles. This could lead to a less diverse content library and potentially alienate some viewers who value critically acclaimed content over trends.  It could also cause a lack of diversity in genres.\n"
      ],
      "metadata": {
        "id": "jLNxxz7MYrdP"
      }
    },
    {
      "cell_type": "markdown",
      "source": [
        "#### Chart - 5 Line Chart On Trend Of Content Releases Over Years"
      ],
      "metadata": {
        "id": "bamQiAODYuh1"
      }
    },
    {
      "cell_type": "code",
      "source": [
        "# Create a line chart showing the trend of content releases over the years.\n",
        "\n",
        "release_year_counts = df.groupby(['release_year', 'type']).size().reset_index(name='counts')\n",
        "\n",
        "fig = px.line(\n",
        "    release_year_counts,\n",
        "    x='release_year',\n",
        "    y='counts',\n",
        "    color='type',\n",
        "    labels={'release_year': 'Release Year', 'counts': 'Number of Titles'},\n",
        "    title='Trend of Content Releases Over the Years by Content Type'\n",
        ")\n",
        "fig.show()"
      ],
      "metadata": {
        "id": "TIJwrbroYuh3"
      },
      "execution_count": null,
      "outputs": []
    },
    {
      "cell_type": "markdown",
      "source": [
        "##### 1. Why did you pick the specific chart?"
      ],
      "metadata": {
        "id": "QHF8YVU7Yuh3"
      }
    },
    {
      "cell_type": "markdown",
      "source": [
        "I chose a line chart to visualize the trend of content releases over the years. Line charts are excellent for displaying trends over time.  By plotting the number of releases against the release year, we can easily identify any increasing or decreasing trends in the number of movies and TV shows released each year.  The use of color by content type helps in comparing the trends for movies versus TV shows.\n"
      ],
      "metadata": {
        "id": "dcxuIMRPYuh3"
      }
    },
    {
      "cell_type": "markdown",
      "source": [
        "##### 2. What is/are the insight(s) found from the chart?"
      ],
      "metadata": {
        "id": "GwzvFGzlYuh3"
      }
    },
    {
      "cell_type": "markdown",
      "source": [
        "The line chart shows the number of movies and TV shows released each year, allowing us to observe trends in content production and release over time. We can visually see if there are any periods of growth, decline, or stability in releases. We can also see if the release trends differ between movies and TV shows.\n"
      ],
      "metadata": {
        "id": "uyqkiB8YYuh3"
      }
    },
    {
      "cell_type": "markdown",
      "source": [
        "##### 3. Will the gained insights help creating a positive business impact?\n",
        "Are there any insights that lead to negative growth? Justify with specific reason."
      ],
      "metadata": {
        "id": "qYpmQ266Yuh3"
      }
    },
    {
      "cell_type": "markdown",
      "source": [
        "Yes, understanding content release trends can significantly impact business strategy:\n",
        "\n",
        "* **Content Planning:**  The chart reveals periods of high or low content availability.  This can inform decisions about content acquisition and production.  If there's a consistent upward trend, the business might need to plan for increased content licensing or original productions.  If there are dips in releases, the business might need to analyze why and adjust content strategies accordingly.\n",
        "* **Resource Allocation:**  The release trend data can guide resource allocation. Knowing the anticipated volume of content releases each year allows better planning of staff, marketing budget, and technical infrastructure.\n",
        "* **Future Projections:**  Analyzing the trend can help forecast future content release volumes, enabling proactive planning and informed decisions about investment and growth.\n",
        "\n",
        "\n",
        "**Negative Growth Insight:**  A downward trend in content releases could signal a potential problem.  Decreased content availability could lead to user dissatisfaction and churn as viewers have less content to choose from. This could trigger a loss of subscribers and revenue.  If, however, the downward trend in movie and show releases is coupled with a concurrent upward trend in the overall viewership (viewing hours), then there may be no problem.  We would need to examine other metrics, such as subscriber and revenue numbers.\n"
      ],
      "metadata": {
        "id": "_WtzZ_hCYuh4"
      }
    },
    {
      "cell_type": "markdown",
      "source": [
        "#### Chart - 6 Box Plot On Distribution Of IMDB Scores For Different Genres"
      ],
      "metadata": {
        "id": "OH-pJp9IphqM"
      }
    },
    {
      "cell_type": "code",
      "source": [
        "# Create a box plot to visualize the distribution of IMDB scores for different genres.\n",
        "\n",
        "fig = px.box(df, x=\"primary_genre\", y=\"imdb_score\",\n",
        "             title=\"Distribution of IMDB Scores Across Genres\",\n",
        "             color=\"primary_genre\")\n",
        "fig.update_layout(xaxis_title=\"Primary Genre\", yaxis_title=\"IMDB Score\")\n",
        "fig.show()"
      ],
      "metadata": {
        "id": "kuRf4wtuphqN"
      },
      "execution_count": null,
      "outputs": []
    },
    {
      "cell_type": "markdown",
      "source": [
        "##### 1. Why did you pick the specific chart?"
      ],
      "metadata": {
        "id": "bbFf2-_FphqN"
      }
    },
    {
      "cell_type": "markdown",
      "source": [
        "I chose a box plot to visualize the distribution of IMDB scores for different genres because box plots are excellent for comparing the distributions of a numerical variable (IMDB score) across different categories (genres). They show the median, quartiles, and outliers for each genre, making it easy to see the central tendency, spread, and potential differences in the distributions.\n"
      ],
      "metadata": {
        "id": "loh7H2nzphqN"
      }
    },
    {
      "cell_type": "markdown",
      "source": [
        "##### 2. What is/are the insight(s) found from the chart?"
      ],
      "metadata": {
        "id": "_ouA3fa0phqN"
      }
    },
    {
      "cell_type": "markdown",
      "source": [
        "The box plot reveals how IMDB scores are distributed across various genres.  We can see which genres tend to have higher median scores, wider ranges of scores, and more or fewer outliers.  It allows us to identify genres that consistently receive high or low ratings and understand the variability within each genre's ratings.\n"
      ],
      "metadata": {
        "id": "VECbqPI7phqN"
      }
    },
    {
      "cell_type": "markdown",
      "source": [
        "##### 3. Will the gained insights help creating a positive business impact?\n",
        "Are there any insights that lead to negative growth? Justify with specific reason."
      ],
      "metadata": {
        "id": "Seke61FWphqN"
      }
    },
    {
      "cell_type": "markdown",
      "source": [
        "Yes, understanding the distribution of IMDB scores across genres can provide several positive business impacts:\n",
        "\n",
        "* **Targeted Content Acquisition:**  Genres with consistently high median IMDB scores and smaller ranges (indicating more consistent quality) can be prioritized for content acquisition. This helps ensure higher quality content for viewers.\n",
        "* **Genre-Specific Marketing:**  The box plot helps tailor marketing campaigns to emphasize the strengths of each genre. For example, a genre with consistently high ratings can be marketed as having high-quality content.\n",
        "* **Content Recommendations:**  The platform can use the insights to improve recommendations.  If a user prefers a specific genre, the platform can recommend titles from that genre with high IMDB scores, rather than those with low scores.\n",
        "* **Original Content Strategy:**  This analysis can guide decisions around original productions. It's possible to identify genres with relatively higher potential ratings and produce more content in these genres.\n",
        "\n",
        "**Negative Growth Insight:**  Genres with consistently low IMDB scores and a large range (indicating inconsistent quality) could signal potential problems. If the platform heavily invests in a particular genre that consistently underperforms in terms of ratings, it could lead to user dissatisfaction and churn.  Viewers may lose interest in the platform if it primarily offers low-rated content within a particular genre they enjoy, especially if competitors offer higher-quality options.\n"
      ],
      "metadata": {
        "id": "DW4_bGpfphqN"
      }
    },
    {
      "cell_type": "markdown",
      "source": [
        "#### Chart - 7 Scatter Plot On Age Certification vs Avg IMDB Scores"
      ],
      "metadata": {
        "id": "PIIx-8_IphqN"
      }
    },
    {
      "cell_type": "code",
      "source": [
        "# Create the scatter plot\n",
        "fig = px.scatter(df, x=\"age_certification\", y=\"imdb_score\",\n",
        "                 title=\"Age Certification vs. Average IMDB Score\",\n",
        "                 color=\"age_certification\",  # Color points by age certification\n",
        "                 labels={\"age_certification\": \"Age Certification\", \"imdb_score\": \"Average IMDB Score\"},\n",
        "                 hover_data=[\"title\"]) # Show title on hover\n",
        "fig.show()\n"
      ],
      "metadata": {
        "id": "lqAIGUfyphqO"
      },
      "execution_count": null,
      "outputs": []
    },
    {
      "cell_type": "markdown",
      "source": [
        "##### 1. Why did you pick the specific chart?"
      ],
      "metadata": {
        "id": "t27r6nlMphqO"
      }
    },
    {
      "cell_type": "markdown",
      "source": [
        " I chose a scatter plot to visualize the relationship between age certifications and average IMDB scores. Scatter plots are effective for identifying potential correlations or patterns between a categorical variable (age certification) and a numerical variable (IMDB score).  The color-coding by age certification helps distinguish the different age groups and their corresponding IMDB scores.\n"
      ],
      "metadata": {
        "id": "iv6ro40sphqO"
      }
    },
    {
      "cell_type": "markdown",
      "source": [
        "##### 2. What is/are the insight(s) found from the chart?"
      ],
      "metadata": {
        "id": "r2jJGEOYphqO"
      }
    },
    {
      "cell_type": "markdown",
      "source": [
        "The scatter plot shows the average IMDB score for each age certification category. We can see if there's a trend between the age rating and the IMDB score.  For example, we might observe if certain age certifications tend to have higher or lower average IMDB scores.  This could reveal potential biases in how different age groups are perceived or rated.\n"
      ],
      "metadata": {
        "id": "Po6ZPi4hphqO"
      }
    },
    {
      "cell_type": "markdown",
      "source": [
        "##### 3. Will the gained insights help creating a positive business impact?\n",
        "Are there any insights that lead to negative growth? Justify with specific reason."
      ],
      "metadata": {
        "id": "b0JNsNcRphqO"
      }
    },
    {
      "cell_type": "markdown",
      "source": [
        "Yes, understanding the relationship between age certification and IMDB scores can provide several positive business impacts:\n",
        "\n",
        "* **Content Strategy:** If a particular age certification consistently receives high IMDB scores, the business may prioritize acquiring or producing more content within that rating category.\n",
        "* **Marketing and Promotion:**  Marketing campaigns can target specific age groups by highlighting the quality of content (as measured by IMDB scores) available within their respective age ratings.\n",
        "* **Parental Controls:** The data can inform improvements in parental controls and recommendations, making it easier for parents to find appropriate content for their children's age group.\n",
        "\n",
        "**Negative Growth Insight:**  If a particular age certification consistently receives low IMDB scores, the platform might see negative growth in that target demographic. For example, if content rated for a younger audience consistently receives low ratings, it could lead to dissatisfaction among family viewers.  Competitors offering better-rated content for that age group might attract users away, resulting in negative growth.  Furthermore, if a particular age demographic is under-represented, marketing campaigns may not be reaching that particular demographic resulting in slow or negative growth.  If the age certification data highlights the lack of content for a particular demographic, then this might cause negative growth.\n"
      ],
      "metadata": {
        "id": "xvSq8iUTphqO"
      }
    },
    {
      "cell_type": "markdown",
      "source": [
        "#### Chart - 8 Bar Chart On Top 10 Countries With Most Number Of Titles"
      ],
      "metadata": {
        "id": "BZR9WyysphqO"
      }
    },
    {
      "cell_type": "code",
      "source": [
        "# Assuming top 10 countries with most number of titile on amazon prime\n",
        "\n",
        "country_counts = df['primary_country'].value_counts().nlargest(10)\n",
        "\n",
        "fig = px.bar(\n",
        "    x=country_counts.index,\n",
        "    y=country_counts.values,\n",
        "    labels={'x': 'Country', 'y': 'Number of Titles'},\n",
        "    title='Top 10 Countries with the Most Titles on Amazon Prime',\n",
        "    color=country_counts.index,  # Color the bars by country\n",
        ")\n",
        "fig.show()"
      ],
      "metadata": {
        "id": "TdPTWpAVphqO"
      },
      "execution_count": null,
      "outputs": []
    },
    {
      "cell_type": "markdown",
      "source": [
        "##### 1. Why did you pick the specific chart?"
      ],
      "metadata": {
        "id": "jj7wYXLtphqO"
      }
    },
    {
      "cell_type": "markdown",
      "source": [
        " I chose a bar chart to visualize the top 10 countries with the most number of titles because bar charts excel at comparing the frequencies or counts of different categorical variables.  The length of each bar directly represents the number of movies/shows from a specific country, making it easy to compare the representation of various countries.\n"
      ],
      "metadata": {
        "id": "Ob8u6rCTphqO"
      }
    },
    {
      "cell_type": "markdown",
      "source": [
        "##### 2. What is/are the insight(s) found from the chart?"
      ],
      "metadata": {
        "id": "eZrbJ2SmphqO"
      }
    },
    {
      "cell_type": "markdown",
      "source": [
        "The bar chart visually represents the top 10 countries with the highest number of titles available on the platform.  The insights gained include the relative prominence of each country in the content library.  This information is useful for understanding the geographical diversity of the platform's content.\n"
      ],
      "metadata": {
        "id": "mZtgC_hjphqO"
      }
    },
    {
      "cell_type": "markdown",
      "source": [
        "##### 3. Will the gained insights help creating a positive business impact?\n",
        "Are there any insights that lead to negative growth? Justify with specific reason."
      ],
      "metadata": {
        "id": "rFu4xreNphqO"
      }
    },
    {
      "cell_type": "markdown",
      "source": [
        "Yes, understanding the geographical distribution of content can have a positive impact:\n",
        "* **Content Acquisition:**  The chart informs content acquisition decisions.  If there's underrepresentation from a specific region, the platform can focus on acquiring more content from that region to expand its geographical diversity.\n",
        "* **Targeted Marketing:**  The platform can launch region-specific marketing campaigns based on the popularity of content from certain countries.  This allows the business to tailor its promotional efforts for maximum impact in each region.\n",
        "* **User Experience:**  Knowing the countries represented in the catalog allows for better organization of the content and potentially creation of specific sections or collections for each region, improving user discoverability.\n",
        "* **International Expansion:**  The data can inform decisions about international expansion, identifying regions where more content is needed or where user demand might be high.  Understanding local content preferences in countries could provide a competitive advantage.\n",
        "\n",
        "Negative Growth Insight:  A lack of diversity in countries represented could limit the platform's appeal to international users.  If most content comes from a single country or a small group of countries, it might alienate viewers from other regions who are seeking more geographically diverse content.  This could lead to lower user engagement, decreased user satisfaction, and possible churn, ultimately impacting the business growth negatively.  It may also signal a missed opportunity to tap into different markets, and their local content preferences.\n"
      ],
      "metadata": {
        "id": "ey_0qi68phqO"
      }
    },
    {
      "cell_type": "markdown",
      "source": [
        "#### Chart - 9 Bar Plot On Distribution Of TV Show Seasons On Amazon Prime"
      ],
      "metadata": {
        "id": "YJ55k-q6phqO"
      }
    },
    {
      "cell_type": "code",
      "source": [
        "# Filtering df to include only TV Shows\n",
        "tv_shows_data = df[df['type'] == 'SHOW']\n",
        "\n",
        "# Creating a histogram to show the distribution of seasons in TV shows\n",
        "fig = px.histogram(tv_shows_data, x=\"seasons\",\n",
        "                   title=\"Distribution of TV Show Seasons on Amazon Prime\",\n",
        "                   labels={\"seasons\": \"Number of Seasons\"},\n",
        "                   color_discrete_sequence=px.colors.qualitative.Prism)  # Use a qualitative color palette\n",
        "fig.update_layout(xaxis_title=\"Number of Seasons\", yaxis_title=\"Number of TV Shows\")\n",
        "fig.show()\n"
      ],
      "metadata": {
        "id": "B2aS4O1ophqO"
      },
      "execution_count": null,
      "outputs": []
    },
    {
      "cell_type": "markdown",
      "source": [
        "##### 1. Why did you pick the specific chart?"
      ],
      "metadata": {
        "id": "gCFgpxoyphqP"
      }
    },
    {
      "cell_type": "markdown",
      "source": [
        "I chose a histogram to visualize the distribution of the number of seasons in TV shows. Histograms are effective for displaying the frequency distribution of a numerical variable. In this case, we want to see how many TV shows have 1 season, 2 seasons, 3 seasons, and so on.  This helps to understand the typical length of TV shows available on the platform.\n"
      ],
      "metadata": {
        "id": "TVxDimi2phqP"
      }
    },
    {
      "cell_type": "markdown",
      "source": [
        "##### 2. What is/are the insight(s) found from the chart?"
      ],
      "metadata": {
        "id": "OVtJsKN_phqQ"
      }
    },
    {
      "cell_type": "markdown",
      "source": [
        " The histogram shows the distribution of the number of seasons for TV shows. We can observe the most frequent number of seasons, the range of seasons, and the overall shape of the distribution (e.g., is it skewed, normal, etc.). This information helps to understand the typical length of TV shows on the platform and identify any outliers (shows with unusually high or low numbers of seasons).\n"
      ],
      "metadata": {
        "id": "ngGi97qjphqQ"
      }
    },
    {
      "cell_type": "markdown",
      "source": [
        "##### 3. Will the gained insights help creating a positive business impact?\n",
        "Are there any insights that lead to negative growth? Justify with specific reason."
      ],
      "metadata": {
        "id": "lssrdh5qphqQ"
      }
    },
    {
      "cell_type": "markdown",
      "source": [
        "Yes, understanding the distribution of seasons in TV shows can have a positive business impact:\n",
        "* **Content Strategy:** The distribution can inform content acquisition and original programming decisions.  If most shows have a certain number of seasons, this might indicate a viewer preference for shows of that length.  Acquiring content that aligns with these viewer preferences can enhance user satisfaction.\n",
        "* **User Experience:**  Knowing the season distribution can help in the design of user interfaces and navigation.  Understanding the typical show length can influence how seasons are grouped and displayed, improving user experience.\n",
        "* **Marketing and Promotion:**  Marketing efforts can highlight shows with a popular number of seasons or cater to preferences for shorter or longer series, depending on the distribution.\n",
        "\n",
        "**Negative Growth Insight:** An overrepresentation of very short TV shows (e.g., a large proportion of shows with only one season) might indicate a potential problem.  Viewers might prefer longer series, and a lack of variety in length could lead to user dissatisfaction and a negative impact on growth.  Alternatively, an overrepresentation of very long series (e.g., tens of seasons) might not be appealing to the majority of the viewers.  Viewers might prefer shorter series or movies instead of committing to a lengthy TV show. This would require further analysis to understand viewer preferences related to show length.  If viewer data and user surveys show a preference for longer format TV content, and there is an under-representation of such content, that could also lead to negative growth.\n"
      ],
      "metadata": {
        "id": "tBpY5ekJphqQ"
      }
    },
    {
      "cell_type": "markdown",
      "source": [
        "#### Chart - 10 Density Heatmap On Distribution Of IMDB Score"
      ],
      "metadata": {
        "id": "U2RJ9gkRphqQ"
      }
    },
    {
      "cell_type": "code",
      "source": [
        "# Creating Density Heatmap Chart On IMDB Score Distribution Across Various Genres\n",
        "\n",
        "fig = px.density_heatmap(df, x='primary_genre', y='imdb_score',\n",
        "                         title='IMDB Score Distribution Across Genres (Heatmap)',\n",
        "                         labels={'primary_genre': 'Primary Genre', 'imdb_score': 'IMDB Score'},\n",
        "                         nbinsx=20, nbinsy=20) # Adjust nbins for resolution\n",
        "fig.show()\n",
        "\n"
      ],
      "metadata": {
        "id": "GM7a4YP4phqQ"
      },
      "execution_count": null,
      "outputs": []
    },
    {
      "cell_type": "markdown",
      "source": [
        "##### 1. Why did you pick the specific chart?"
      ],
      "metadata": {
        "id": "1M8mcRywphqQ"
      }
    },
    {
      "cell_type": "markdown",
      "source": [
        "I chose a density heatmap to visualize the distribution of IMDB scores across different genres because it effectively shows the concentration of data points in a 2D space.  A heatmap allows us to identify areas where many movies/shows with similar IMDB scores exist for each genre. It provides a visual representation of the relationship between the two continuous variables: IMDB score and genre, and it helps reveal areas of higher density (more movies/shows with those scores within a genre).\n"
      ],
      "metadata": {
        "id": "8agQvks0phqQ"
      }
    },
    {
      "cell_type": "markdown",
      "source": [
        "##### 2. What is/are the insight(s) found from the chart?"
      ],
      "metadata": {
        "id": "tgIPom80phqQ"
      }
    },
    {
      "cell_type": "markdown",
      "source": [
        "The density heatmap provides insights into how IMDB scores are distributed within different genres. It allows us to identify genres that tend to have movies/shows clustered around certain scores. We can see which genres have a higher concentration of high-scoring movies/shows and which genres show more variation or lower scores. For example, a genre might show a dense cluster of ratings in the 7-8 range, or some genres may have a more dispersed rating distribution, indicating greater variability in quality for that particular genre.\n"
      ],
      "metadata": {
        "id": "Qp13pnNzphqQ"
      }
    },
    {
      "cell_type": "markdown",
      "source": [
        "##### 3. Will the gained insights help creating a positive business impact?\n",
        "Are there any insights that lead to negative growth? Justify with specific reason."
      ],
      "metadata": {
        "id": "JMzcOPDDphqR"
      }
    },
    {
      "cell_type": "markdown",
      "source": [
        "Yes, understanding IMDB score distribution within genres has several potential business impacts.\n",
        "* **Genre-Specific Content Focus:**  The heatmap reveals genres with higher concentrations of high IMDB scores, indicating a preference for quality content in those genres.  The platform can focus more on acquiring/producing high-quality content within those genres.\n",
        "* **Content Curation:**  Insights from the density heatmap can inform the curation of content collections for users. By grouping high-density areas within genres, the platform can suggest relevant and high-quality content.\n",
        "* **Understanding User Preferences:**  The density heatmap can provide clues about viewer preferences for genres and score ranges.  This can inform future content acquisition and production decisions.\n",
        "\n",
        "**Negative Growth Insight:**  Genres showing a high concentration of low IMDB scores could lead to negative growth.  If the platform continues to heavily invest in or promote genres that primarily receive low ratings, this may drive away viewers.  If viewer data suggests a preference for high quality shows and the platform fails to cater to that, then the platform may see negative growth.  This could also impact the perception of the platform in the market.  Competitors with similar genres, but with a higher density of high scores, may attract subscribers and content creators.\n"
      ],
      "metadata": {
        "id": "R4Ka1PC2phqR"
      }
    },
    {
      "cell_type": "markdown",
      "source": [
        "#### Chart - 11 Correlation Heatmap"
      ],
      "metadata": {
        "id": "x-EpHcCOp1ci"
      }
    },
    {
      "cell_type": "code",
      "source": [
        "import plotly.figure_factory as ff\n",
        "\n",
        "# Selecting relevant numerical columns for correlation analysis\n",
        "correlation_columns = ['runtime', 'imdb_score', 'imdb_votes', 'tmdb_popularity', 'tmdb_score', 'seasons']\n",
        "\n",
        "# Compute the correlation matrix (ensure no NaNs)\n",
        "correlation_matrix = df[correlation_columns].corr().fillna(0)  # Replace NaNs with 0\n",
        "\n",
        "# Convert to NumPy array\n",
        "z_values = correlation_matrix.values\n",
        "\n",
        "# Create annotations (convert numerical values to strings with 2 decimal places)\n",
        "annotations = [[f\"{val:.2f}\" for val in row] for row in z_values]\n",
        "\n",
        "# Create heatmap\n",
        "fig_heatmap = ff.create_annotated_heatmap(\n",
        "    z=z_values,\n",
        "    x=list(correlation_matrix.columns),\n",
        "    y=list(correlation_matrix.index),\n",
        "    annotation_text=annotations,  # Display correlation values\n",
        "    colorscale='RdBu',  # You can try 'Viridis' or 'Blues' if you prefer\n",
        "    reversescale=True  # Reverse color scale for better visualization\n",
        ")\n",
        "\n",
        "# Adding title to the layout\n",
        "fig_heatmap.update_layout(\n",
        "    title=\"Heatmap: Correlation Between Numeric Variables\",\n",
        "    xaxis_title=\"Variables\",\n",
        "    yaxis_title=\"Variables\",\n",
        "    font=dict(family=\"Arial\", size=14, color=\"black\"),\n",
        "    height=600, width=1100  # Adjust size if needed\n",
        ")\n",
        "\n",
        "# Show the heatmap\n",
        "fig_heatmap.show()\n"
      ],
      "metadata": {
        "id": "mAQTIvtqp1cj"
      },
      "execution_count": null,
      "outputs": []
    },
    {
      "cell_type": "markdown",
      "source": [
        "##### 1. Why did you pick the specific chart?"
      ],
      "metadata": {
        "id": "X_VqEhTip1ck"
      }
    },
    {
      "cell_type": "markdown",
      "source": [
        "I chose a correlation heatmap to visualize the relationships between several numerical variables in the dataset. Heatmaps are ideal for displaying correlation coefficients between multiple variables simultaneously.  The color intensity and shading represent the strength and direction of the correlation, making it easy to quickly identify strongly correlated or inversely correlated variables.\n"
      ],
      "metadata": {
        "id": "-vsMzt_np1ck"
      }
    },
    {
      "cell_type": "markdown",
      "source": [
        "##### 2. What is/are the insight(s) found from the chart?"
      ],
      "metadata": {
        "id": "8zGJKyg5p1ck"
      }
    },
    {
      "cell_type": "markdown",
      "source": [
        "The heatmap shows the correlation coefficients between pairs of numerical variables, such as runtime, IMDB score, IMDB votes, TMDB popularity, TMDB score, and seasons (for TV shows).  Positive correlations (lighter colors) indicate that as one variable increases, the other tends to increase as well.  Negative correlations (darker colors) indicate an inverse relationship – as one variable increases, the other tends to decrease. The magnitude of the color intensity shows the strength of the relationship.\n"
      ],
      "metadata": {
        "id": "ZYdMsrqVp1ck"
      }
    },
    {
      "cell_type": "markdown",
      "source": [
        "##### 3. Will the gained insights help creating a positive business impact?\n",
        "Are there any insights that lead to negative growth? Justify with specific reason."
      ],
      "metadata": {
        "id": "PVzmfK_Ep1ck"
      }
    },
    {
      "cell_type": "markdown",
      "source": [
        "Yes, understanding the correlations between these variables can have a significant business impact:\n",
        "\n",
        "* **Content Recommendation:** Strong correlations can inform the content recommendation engine. For instance, if runtime and IMDB score are positively correlated, the platform can recommend longer movies/shows with high scores to users who enjoy similar content.\n",
        "* **Content Strategy:**  If TMDB popularity and IMDB score have a strong positive correlation, it suggests that popular movies/shows on TMDB tend to have higher ratings on IMDB.  This can inform the acquisition strategy, prioritizing content that's already popular on other platforms.\n",
        "* **Resource Allocation:**  Identifying correlations can help allocate resources efficiently. For example, if there's a strong correlation between marketing spend and IMDB votes, it indicates that marketing efforts may influence viewer engagement, guiding future marketing strategies.\n",
        "\n",
        "**Negative Growth Insight:** Weak or negative correlations between key metrics could indicate potential problems.  For example, if there's a negative correlation between runtime and IMDB score, it suggests that longer movies/shows tend to have lower ratings.  This could imply that users dislike long movies/shows or that longer content might not be as well-produced.  Continuing to produce long content may result in lower user satisfaction.\n",
        "\n",
        "Conversely, a weak positive correlation between marketing and IMDB votes could mean that marketing campaigns are not as effective at driving engagement as anticipated, indicating a need to revisit marketing strategies to positively impact key metrics like viewership or subscriptions. If the platform has limited resources, and heavily invests in content with low correlation to success metrics (like IMDB score, viewership), it might lead to lower return on investment and hinder growth.\n"
      ],
      "metadata": {
        "id": "druuKYZpp1ck"
      }
    },
    {
      "cell_type": "markdown",
      "source": [
        "#### Chart - 12 Pair Plot"
      ],
      "metadata": {
        "id": "n3dbpmDWp1ck"
      }
    },
    {
      "cell_type": "code",
      "source": [
        "# Select relevant numerical columns for pair plot\n",
        "numerical_cols = ['runtime', 'imdb_score', 'imdb_votes', 'tmdb_popularity', 'tmdb_score']\n",
        "\n",
        "# Create the pair plot\n",
        "sns.pairplot(df[numerical_cols])\n",
        "plt.suptitle('Pair Plot of Numerical Variables', y=1.02) # Add title\n",
        "plt.show()"
      ],
      "metadata": {
        "id": "bwevp1tKp1ck"
      },
      "execution_count": null,
      "outputs": []
    },
    {
      "cell_type": "markdown",
      "source": [
        "##### 1. Why did you pick the specific chart?"
      ],
      "metadata": {
        "id": "ylSl6qgtp1ck"
      }
    },
    {
      "cell_type": "markdown",
      "source": [
        "I chose a pair plot to visualize the relationships between multiple numerical variables simultaneously. A pair plot creates a matrix of scatter plots, where each plot shows the relationship between two variables.  The diagonal of the matrix shows the distribution of each individual variable (often a histogram or kernel density estimate). This allows for a quick visual overview of how all selected numerical variables relate to each other, which is useful for identifying patterns, correlations, and potential outliers.\n"
      ],
      "metadata": {
        "id": "m2xqNkiQp1ck"
      }
    },
    {
      "cell_type": "markdown",
      "source": [
        "##### 2. What is/are the insight(s) found from the chart?"
      ],
      "metadata": {
        "id": "ZWILFDl5p1ck"
      }
    },
    {
      "cell_type": "markdown",
      "source": [
        "The pair plot reveals relationships between pairs of numerical variables (e.g., runtime vs. IMDB score, IMDB score vs. TMDB popularity). From the scatter plots, we can observe trends, clusters, and correlations.  For example, a positive linear trend might indicate a positive correlation between two variables, while no clear pattern suggests a lack of correlation.  The distributions on the diagonal help understand the ranges and distributions of each individual variable.\n"
      ],
      "metadata": {
        "id": "x-lUsV2mp1ck"
      }
    },
    {
      "cell_type": "markdown",
      "source": [
        "##### 3. Will the gained insights help creating a positive business impact?\n",
        "Are there any insights that lead to negative growth? Justify with specific reason."
      ],
      "metadata": {
        "id": "M7G43BXep1ck"
      }
    },
    {
      "cell_type": "markdown",
      "source": [
        "Yes, insights from the pair plot can have a positive business impact:\n",
        "* **Content Strategy:** Identifying correlations between variables can inform content acquisition and production strategies. If runtime is negatively correlated with IMDB scores, it could guide the platform to focus on shorter content with a higher probability of receiving good ratings.\n",
        "* **Targeted Marketing:** Correlations can be used to target specific segments of users with greater precision.  If IMDB votes are correlated with TMDB popularity, the platform can leverage that to boost campaigns for already-popular content.\n",
        "* **Resource Allocation:** Understanding these correlations can help in efficiently allocating marketing budgets across different types of content.  If TMDB popularity and IMDB votes have a strong positive correlation, it might indicate that marketing efforts on highly popular titles on TMDB may translate to more votes on IMDB.\n",
        "\n",
        "**Negative Growth Insight:**  A lack of correlation between seemingly related variables might highlight areas of inefficiency. For instance, if marketing spend shows no correlation with IMDB votes or TMDB popularity, it could suggest that the current marketing campaigns are ineffective or not targeted well enough. This means that marketing investments are not translating into engagement metrics and requires review of strategies.  Further investigation and more granular data might be necessary to uncover reasons behind these lackluster correlations and improve future campaigns.  Additionally, if a key metric (like user retention) shows a negative trend in relation to certain variables, it points toward a need for changes to avert negative growth.\n"
      ],
      "metadata": {
        "id": "5wwDJXsLp1cl"
      }
    },
    {
      "cell_type": "markdown",
      "source": [
        "## **5. Solution to Business Objective**"
      ],
      "metadata": {
        "id": "JcMwzZxoAimU"
      }
    },
    {
      "cell_type": "markdown",
      "source": [
        "#### What do you suggest the client to achieve Business Objective ?\n",
        "Explain Briefly."
      ],
      "metadata": {
        "id": "8G2x9gOozGDZ"
      }
    },
    {
      "cell_type": "markdown",
      "source": [
        "Based on the analysis of content release trends, IMDB scores, and geographical distribution, here's a suggested approach for the client:\n",
        "\n",
        "1. **Prioritize high-quality content:** Focus on acquiring and producing content with high IMDB scores, especially within genres demonstrating consistent quality.  Identify genres with higher median scores and smaller ranges, indicating more reliable high quality.  Pay attention to age certifications;  prioritize age categories with high average IMDB scores to maintain user satisfaction across all demographics.\n",
        "\n",
        "2. **Diversify content geographically:** Expand the content library to include more titles from underrepresented countries. This increases the platform's appeal to a global audience, reduces reliance on a limited number of sources and mitigates the risk of alienating viewers in other regions.\n",
        "\n",
        "3. **Optimize content planning and resource allocation:** Analyze content release trends to anticipate future demand.  Plan content acquisition and production strategically according to this, adjusting resource allocation (staff, budget, and technical infrastructure) accordingly. Periods of high content availability require increased resources; periods of lower content availability require adjustments.\n",
        "\n",
        "4. **Refine recommendation algorithms:** Incorporate IMDB scores, TMDB popularity, and genre information to improve the recommendation engine.  This ensures users are recommended high-quality, relevant content that caters to their preferences.\n",
        "\n",
        "5. **Targeted marketing:** Create targeted marketing campaigns for specific genres, age certifications, and regions. Highlight high-quality content and promote it based on the identified trends.\n",
        "\n",
        "6. **Monitor key metrics:** Continuously monitor key metrics such as user engagement, churn rate, and subscriber numbers.  Closely track content performance to identify any genres or regions where improvements are needed.\n",
        "\n",
        "By implementing these strategies, the client can improve user satisfaction, attract new subscribers, and ensure long-term growth."
      ],
      "metadata": {
        "id": "pASKb0qOza21"
      }
    },
    {
      "cell_type": "markdown",
      "source": [
        "# **Conclusion**"
      ],
      "metadata": {
        "id": "gCX9965dhzqZ"
      }
    },
    {
      "cell_type": "markdown",
      "source": [
        "This analysis of the Amazon Prime Movies and TV Shows dataset provided valuable insights into content trends, audience preferences, and geographical distribution.  Key findings include the temporal trends in content releases, the distribution of IMDB scores across different genres and age certifications, and the geographical representation of content.  These insights have direct implications for business strategy, guiding content acquisition, resource allocation, marketing efforts, and the development of personalized recommendation systems.  By focusing on high-quality content, diversifying the geographic representation, and proactively adapting to changing trends, the platform can improve user satisfaction, attract new viewers, and achieve sustainable growth.  Continuous monitoring of key performance indicators and a data-driven approach to content management are essential for maintaining a competitive advantage in the evolving streaming landscape.\n"
      ],
      "metadata": {
        "id": "Fjb1IsQkh3yE"
      }
    },
    {
      "cell_type": "markdown",
      "source": [
        "### ***Hurrah! You have successfully completed your EDA Capstone Project !!!***"
      ],
      "metadata": {
        "id": "daIFVvqXKf13"
      }
    }
  ]
}